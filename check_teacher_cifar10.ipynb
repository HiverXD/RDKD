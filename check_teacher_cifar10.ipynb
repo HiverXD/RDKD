{
 "cells": [
  {
   "cell_type": "markdown",
   "id": "65ee4127",
   "metadata": {},
   "source": [
    "\n",
    "# Check Teacher Accuracy — CIFAR-10 (ResNet34)\n",
    "\n",
    "This notebook loads the **teacher** model (ResNet34 backbone + classifier) for **CIFAR-10** from your repository checkpoints and evaluates its **Top-1 accuracy** on the validation/test split.\n",
    "\n",
    "It uses:\n",
    "- `src/data/data_setup.py` for building DataLoaders (no augmentation per your setup).\n",
    "- `torchvision.models.resnet34` to assemble the model, then loads the **backbone** and **classifier** weights.\n",
    "- `src/model/ckpts/teachers.json` if available to resolve checkpoint paths automatically; otherwise, it falls back to template paths like `resnet34_{dataset}_backbone.pt` and `resnet34_{dataset}_classifier.pt`.\n",
    "\n",
    "> If you want to check a different dataset, just change `DATASET` and `NUM_CLASSES` below.\n"
   ]
  },
  {
   "cell_type": "code",
   "execution_count": 24,
   "id": "90dc4a29",
   "metadata": {},
   "outputs": [],
   "source": [
    "\n",
    "# --- Config ---\n",
    "DATASET      = \"cifar10\"   # one of: [\"cifar10\", \"cifar100\", \"stl10\", \"tiny_imagenet\"]\n",
    "NUM_CLASSES  = 10          # cifar10=10, cifar100=100, stl10=10, tiny_imagenet=200\n",
    "BATCH_SIZE   = 256\n",
    "NUM_WORKERS  = 4\n",
    "PIN_MEMORY   = True\n",
    "DOWNLOAD     = False\n",
    "\n",
    "# Project-relative paths\n",
    "CKPT_ROOT    = \"src/model/ckpts\"\n",
    "TEACHERS_JSON= f\"{CKPT_ROOT}/teachers.json\"\n",
    "TEMPLATE_BB  = f\"{CKPT_ROOT}/resnet34_{'{dataset}'}_backbone.pt\"\n",
    "TEMPLATE_CLF = f\"{CKPT_ROOT}/resnet34_{'{dataset}'}_classifier.pt\"\n",
    "DATA_ROOT    = \"dataset\"   # same as your config.yaml\n",
    "DEVICE       = \"cuda\"      # change to \"cpu\" if needed\n"
   ]
  },
  {
   "cell_type": "code",
   "execution_count": 25,
   "id": "29a1bd04",
   "metadata": {},
   "outputs": [
    {
     "name": "stdout",
     "output_type": "stream",
     "text": [
      "Torch: 2.5.1+cu121\n",
      "CUDA available: True\n"
     ]
    }
   ],
   "source": [
    "\n",
    "# --- Imports ---\n",
    "import os, json, torch\n",
    "import torch.nn as nn\n",
    "import torch.nn.functional as F\n",
    "from torchvision import models\n",
    "from torch.utils.data import DataLoader\n",
    "from pathlib import Path\n",
    "\n",
    "# Use your repository's data loader utility\n",
    "from src.data.data_setup import loaders\n",
    "\n",
    "print(\"Torch:\", torch.__version__)\n",
    "print(\"CUDA available:\", torch.cuda.is_available())\n"
   ]
  },
  {
   "cell_type": "code",
   "execution_count": 26,
   "id": "6a8eebf4",
   "metadata": {},
   "outputs": [
    {
     "name": "stdout",
     "output_type": "stream",
     "text": [
      "[teacher ckpt] - backbone: src\\model\\ckpts\\resnet34_cifar10_backbone.pt \n",
      " - classifier: src\\model\\ckpts\\resnet34_cifar10_classifier.pt\n"
     ]
    }
   ],
   "source": [
    "\n",
    "def resolve_teacher_paths(dataset: str):\n",
    "    \"\"\"Resolve (backbone_path, classifier_path) from teachers.json or templates.\"\"\"\n",
    "    bb_path, clf_path = None, None\n",
    "    if os.path.exists(TEACHERS_JSON):\n",
    "        with open(TEACHERS_JSON, \"r\", encoding=\"utf-8\") as f:\n",
    "            reg = json.load(f)\n",
    "        if dataset in reg:\n",
    "            bb_path  = reg[dataset].get(\"backbone_path\") or reg[dataset].get(\"backbone\")  # support both keys\n",
    "            clf_path = reg[dataset].get(\"classifier_path\") or reg[dataset].get(\"classifier\")\n",
    "    # Fallback to template paths\n",
    "    bb_path  = bb_path  or TEMPLATE_BB.format(dataset=dataset)\n",
    "    clf_path = clf_path or TEMPLATE_CLF.format(dataset=dataset)\n",
    "    if not os.path.exists(bb_path):\n",
    "        raise FileNotFoundError(f\"Backbone not found: {bb_path}\")\n",
    "    if not os.path.exists(clf_path):\n",
    "        raise FileNotFoundError(f\"Classifier not found: {clf_path}\")\n",
    "    print(\"[teacher ckpt] - backbone:\", bb_path, \"\\n - classifier:\", clf_path)\n",
    "    return bb_path, clf_path\n",
    "\n",
    "BB_PATH, CLF_PATH = resolve_teacher_paths(DATASET)\n"
   ]
  },
  {
   "cell_type": "code",
   "execution_count": 27,
   "id": "01b92e6c",
   "metadata": {},
   "outputs": [],
   "source": [
    "from src.model import load_teacher\n",
    "\n",
    "def build_teacher(dataset, device: torch.device):\n",
    "    nc  = 10\n",
    "    arc = \"resnet34\"\n",
    "    tbb = f\"src/model/ckpts/resnet34_{dataset}_backbone.pt\"\n",
    "    tcl = f\"src/model/ckpts/resnet34_{dataset}_classifier.pt\"\n",
    "    teacher = load_teacher.load_backbone_and_classifier(tbb, tcl, arc, nc, map_location=\"cpu\").to(device)\n",
    "    teacher.eval()\n",
    "    for p in teacher.parameters():\n",
    "        p.requires_grad_(False)\n",
    "    return teacher\n",
    "\n",
    "teacher = build_teacher(DATASET, DEVICE)"
   ]
  },
  {
   "cell_type": "code",
   "execution_count": 28,
   "id": "0a589262",
   "metadata": {},
   "outputs": [
    {
     "name": "stdout",
     "output_type": "stream",
     "text": [
      "Validation batches: 40 (batch_size=256)\n"
     ]
    }
   ],
   "source": [
    "\n",
    "# Build dict of train/val/test loaders, then pick the selected dataset key\n",
    "train_loaders, test_loaders = loaders(batch_size=BATCH_SIZE, root=DATA_ROOT, num_workers=NUM_WORKERS, pin_memory=PIN_MEMORY, download=DOWNLOAD)\n",
    "val_loader = test_loaders[DATASET]\n",
    "print(f\"Validation batches: {len(val_loader)} (batch_size={BATCH_SIZE})\")\n"
   ]
  },
  {
   "cell_type": "code",
   "execution_count": 29,
   "id": "4d0c2bb7",
   "metadata": {},
   "outputs": [
    {
     "name": "stderr",
     "output_type": "stream",
     "text": [
      "                                                                 "
     ]
    },
    {
     "name": "stdout",
     "output_type": "stream",
     "text": [
      "{'top1': 0.8885, 'n': 10000.0, 'avg_ce': 0.6321250324249268}\n"
     ]
    },
    {
     "name": "stderr",
     "output_type": "stream",
     "text": [
      "\r"
     ]
    }
   ],
   "source": [
    "\n",
    "import math, time\n",
    "from tqdm import tqdm\n",
    "\n",
    "@torch.no_grad()\n",
    "def evaluate_top1(model, loader, device):\n",
    "    model.eval()\n",
    "    n, correct, total_loss = 0, 0, 0.0\n",
    "    ce = nn.CrossEntropyLoss(reduction=\"sum\")\n",
    "    pbar = tqdm(loader, desc=\"Eval\", leave=False)\n",
    "    for x, y in pbar:\n",
    "        x = x.to(device, non_blocking=True); y = y.to(device, non_blocking=True)\n",
    "        logits = model(x)\n",
    "        loss = ce(logits, y)\n",
    "        total_loss += loss.item()\n",
    "        pred = logits.argmax(1)\n",
    "        correct += (pred == y).sum().item()\n",
    "        n += y.numel()\n",
    "        pbar.set_postfix(acc=f\"{correct/n:.4f}\")\n",
    "    top1 = correct / max(1, n)\n",
    "    avg_loss = total_loss / max(1, n)\n",
    "    return { \"top1\": top1, \"n\": n, \"avg_ce\": avg_loss }\n",
    "\n",
    "metrics = evaluate_top1(teacher, val_loader, DEVICE)\n",
    "print({k: (float(v) if isinstance(v, (int, float)) else v) for k, v in metrics.items()})\n"
   ]
  },
  {
   "cell_type": "code",
   "execution_count": 30,
   "id": "5f38b29b",
   "metadata": {},
   "outputs": [
    {
     "name": "stdout",
     "output_type": "stream",
     "text": [
      "[0] y=3 | top3 classes=[3, 5, 6] | probs=[0.9997, 0.0003, 0.0] \n",
      "[1] y=8 | top3 classes=[8, 0, 1] | probs=[1.0, 0.0, 0.0] \n",
      "[2] y=8 | top3 classes=[8, 1, 0] | probs=[0.8744, 0.1256, 0.0] \n",
      "[3] y=0 | top3 classes=[0, 9, 8] | probs=[1.0, 0.0, 0.0] \n",
      "[4] y=6 | top3 classes=[6, 4, 2] | probs=[1.0, 0.0, 0.0] \n"
     ]
    }
   ],
   "source": [
    "\n",
    "# Peek at a few teacher predictions (first batch) for sanity.\n",
    "import torch\n",
    "from itertools import islice\n",
    "\n",
    "device = torch.device(DEVICE)\n",
    "@torch.no_grad()\n",
    "def peek_teacher(model, loader, device, max_examples=5):\n",
    "    for x, y in loader:\n",
    "        x = x.to(device); y = y.to(device)\n",
    "        logits = model(x)\n",
    "        probs = torch.softmax(logits, dim=1)\n",
    "        for i in range(min(max_examples, x.size(0))):\n",
    "            topk = torch.topk(probs[i], k=3)\n",
    "            print(f\"[{i}] y={int(y[i])} | top3 classes={topk.indices.tolist()} | probs={[round(p,4) for p in topk.values.tolist()]} \")\n",
    "        break\n",
    "\n",
    "peek_teacher(teacher, val_loader, device, max_examples=5)\n"
   ]
  },
  {
   "cell_type": "code",
   "execution_count": 31,
   "id": "baa0ddf4",
   "metadata": {},
   "outputs": [],
   "source": [
    "# 셀 1: 라이브러리 임포트\n",
    "from pathlib import Path\n",
    "import torch\n",
    "import torch.nn as nn\n",
    "import torch.nn.functional as F\n",
    "from tqdm import tqdm\n",
    "\n",
    "from src.data.data_setup import loaders\n",
    "from src.model.backbones import _load_imagenet_model  # 내부 헬퍼\n",
    "\n",
    "# 셀 2: 유틸 함수 정의\n",
    "\n",
    "DATASET2NUM = {\n",
    "    \"cifar10\": 10,\n",
    "    \"cifar100\": 100,\n",
    "    \"stl10\": 10,\n",
    "    \"tiny_imagenet\": 200,\n",
    "}\n",
    "\n",
    "def build_model_skeleton(arch: str, num_classes: int, device: str):\n",
    "    \"\"\"ImageNet 가중치 기반 모델을 만든 뒤, FC를 num_classes로 교체\"\"\"\n",
    "    model = _load_imagenet_model(arch)\n",
    "    in_feat = model.fc.in_features\n",
    "    model.fc = nn.Linear(in_feat, num_classes)\n",
    "    model.to(device)\n",
    "    return model\n",
    "\n",
    "\n",
    "def load_any_checkpoint(ckpt_path: str, arch_hint: str, num_classes: int, device: str) -> nn.Module:\n",
    "    \"\"\"\n",
    "    다양한 저장 포맷을 자동 인식하여 모델 복원:\n",
    "      - Trainer best.pt: {\"model\": state_dict, ...}\n",
    "      - classifier.pt:   {\"arch\": ..., \"state_dict\": full_model_state}\n",
    "      - backbone.pt:     {\"arch\": ..., \"feature_dim\": ..., \"state_dict\": backbone_only}\n",
    "    \"\"\"\n",
    "    ckpt = torch.load(ckpt_path, map_location=device)\n",
    "\n",
    "    # arch 추출\n",
    "    arch = ckpt.get(\"arch\", arch_hint) if isinstance(ckpt, dict) else arch_hint\n",
    "    if arch is None:\n",
    "        raise ValueError(\"arch_hint가 필요합니다. --arch를 지정하세요.\")\n",
    "\n",
    "    model = build_model_skeleton(arch, num_classes, device)\n",
    "\n",
    "    sd = None\n",
    "    if isinstance(ckpt, dict) and \"model\" in ckpt:\n",
    "        # Trainer best.pt / last.pt\n",
    "        sd = ckpt[\"model\"]\n",
    "    elif isinstance(ckpt, dict) and \"state_dict\" in ckpt and \"feature_dim\" in ckpt:\n",
    "        # backbone-only\n",
    "        sd = ckpt[\"state_dict\"]\n",
    "        model.load_state_dict(sd, strict=False)  # 백본만 채움\n",
    "        return model\n",
    "    elif isinstance(ckpt, dict) and \"state_dict\" in ckpt:\n",
    "        # classifier.pt\n",
    "        sd = ckpt[\"state_dict\"]\n",
    "    else:\n",
    "        # 그냥 state_dict만 저장한 경우\n",
    "        sd = ckpt\n",
    "\n",
    "    model.load_state_dict(sd, strict=True)\n",
    "    return model\n",
    "\n",
    "\n",
    "@torch.no_grad()\n",
    "def evaluate(model: nn.Module, loader, device: str):\n",
    "    model.eval()\n",
    "    total, correct, total_loss = 0, 0, 0.0\n",
    "    for batch in tqdm(loader):\n",
    "        x, y = batch[0].to(device), batch[1].to(device)\n",
    "        logits = model(x)\n",
    "        loss = F.cross_entropy(logits, y)\n",
    "        pred = logits.argmax(1)\n",
    "        total += y.size(0)\n",
    "        correct += int((pred == y).sum())\n",
    "        total_loss += float(loss) * y.size(0)\n",
    "    return dict(\n",
    "        loss = total_loss / max(1, total),\n",
    "        acc  = correct / max(1, total),\n",
    "        size = total\n",
    "    )\n",
    "\n",
    "\n"
   ]
  },
  {
   "cell_type": "code",
   "execution_count": 32,
   "id": "527dca8b",
   "metadata": {},
   "outputs": [
    {
     "name": "stderr",
     "output_type": "stream",
     "text": [
      "C:\\Users\\gauoo\\AppData\\Local\\Temp\\ipykernel_69556\\1125580016.py:36: FutureWarning: You are using `torch.load` with `weights_only=False` (the current default value), which uses the default pickle module implicitly. It is possible to construct malicious pickle data which will execute arbitrary code during unpickling (See https://github.com/pytorch/pytorch/blob/main/SECURITY.md#untrusted-models for more details). In a future release, the default value for `weights_only` will be flipped to `True`. This limits the functions that could be executed during unpickling. Arbitrary objects will no longer be allowed to be loaded via this mode unless they are explicitly allowlisted by the user via `torch.serialization.add_safe_globals`. We recommend you start setting `weights_only=True` for any use case where you don't have full control of the loaded file. Please open an issue on GitHub for any issues related to this experimental feature.\n",
      "  ckpt = torch.load(ckpt_path, map_location=device)\n",
      "100%|██████████| 40/40 [00:11<00:00,  3.39it/s]"
     ]
    },
    {
     "name": "stdout",
     "output_type": "stream",
     "text": [
      "[Eval] dataset=cifar10 | ckpt=best.pt | acc=0.8885 loss=0.6321 (n=10000)\n"
     ]
    },
    {
     "name": "stderr",
     "output_type": "stream",
     "text": [
      "\n"
     ]
    }
   ],
   "source": [
    "# 셀 3: 파라미터 설정 (Notebook에서는 직접 지정)\n",
    "dataset = \"cifar10\"   # [\"cifar10\", \"cifar100\", \"stl10\", \"tiny_imagenet\"]\n",
    "ckpt_path = \"runs/01_baseline_test/cifar10/teacher/finetune/checkpoints/best.pt\"\n",
    "arch = \"resnet34\"     # \"resnet18\" or \"resnet34\"\n",
    "batch_size = 256\n",
    "device = \"cuda\" if torch.cuda.is_available() else \"cpu\"\n",
    "\n",
    "num_classes = DATASET2NUM[dataset]\n",
    "\n",
    "# 데이터 로더 준비\n",
    "train_loaders, test_loaders = loaders(\n",
    "    batch_size=batch_size,\n",
    "    root=\"dataset\",   # 필요시 데이터 경로 수정\n",
    "    num_workers=4,\n",
    "    pin_memory=True,\n",
    "    download=False\n",
    ")\n",
    "test_loader = test_loaders[dataset]\n",
    "\n",
    "# 셀 4: 모델 로드 및 평가 실행\n",
    "model = load_any_checkpoint(ckpt_path, arch_hint=arch, num_classes=num_classes, device=device)\n",
    "\n",
    "stats = evaluate(model, test_loader, device)\n",
    "print(f\"[Eval] dataset={dataset} | ckpt={Path(ckpt_path).name} | \"\n",
    "      f\"acc={stats['acc']:.4f} loss={stats['loss']:.4f} (n={stats['size']})\")\n"
   ]
  },
  {
   "cell_type": "code",
   "execution_count": 33,
   "id": "75da5527",
   "metadata": {},
   "outputs": [],
   "source": [
    "from typing import Dict\n",
    "import torch\n",
    "import torch.nn as nn\n",
    "\n",
    "def _strip_known_prefix(k: str):\n",
    "    # DDP/EMA/백본 네임스페이스 등 공통 prefix 정리\n",
    "    for p in (\"module.\", \"ema.\", \"backbone.\", \"encoder.\"):\n",
    "        if k.startswith(p):\n",
    "            return k[len(p):]\n",
    "    return k\n",
    "\n",
    "def normalize_keys(sd: Dict[str, torch.Tensor]) -> Dict[str, torch.Tensor]:\n",
    "    return { _strip_known_prefix(k): v for k, v in sd.items() }\n",
    "\n",
    "def pick_backbone_only(sd_norm: Dict[str, torch.Tensor]) -> Dict[str, torch.Tensor]:\n",
    "    # 보통 resnet의 분류기는 'fc.*' 네임스페이스를 사용\n",
    "    return {k: v for k, v in sd_norm.items() if not k.startswith(\"fc.\")}\n",
    "\n",
    "def pick_classifier_only(sd_norm: Dict[str, torch.Tensor]) -> Dict[str, torch.Tensor]:\n",
    "    # 일반적인 경우: 'fc.*'\n",
    "    clf = {k: v for k, v in sd_norm.items() if k.startswith(\"fc.\")}\n",
    "    if clf:\n",
    "        return clf\n",
    "    # 혹시 커스텀 헤드 네임스페이스가 있다면 여기에 추가 탐지 규칙을 넣으세요.\n",
    "    # 예: 'head.fc.' 등 → 'fc.'로 rename 필요\n",
    "    # 아래는 예시(필요 시 주석 해제하여 사용)\n",
    "    # alt = {k: v for k, v in sd_norm.items() if k.startswith(\"head.fc.\")}\n",
    "    # if alt:\n",
    "    #     return {k.replace(\"head.fc.\", \"fc.\"): v for k, v in alt.items()}\n",
    "    return {}\n",
    "\n",
    "def merge_backbone_and_classifier(\n",
    "    backbone_ckpt_path: str,\n",
    "    classifier_ckpt_path: str,\n",
    "    arch: str,\n",
    "    num_classes: int,\n",
    "    device: str = \"cuda\",\n",
    "    strict_backbone: bool = False,\n",
    ") -> nn.Module:\n",
    "    \"\"\"\n",
    "    - backbone_ckpt_path: {\"arch\", \"feature_dim\", \"state_dict\"(백본만)} 형식\n",
    "    - classifier_ckpt_path: {\"arch\", \"state_dict\"(전체모델)} 형식\n",
    "    \"\"\"\n",
    "    device = device if (device.startswith(\"cuda\") and torch.cuda.is_available()) else \"cpu\"\n",
    "    model = build_model_skeleton(arch, num_classes, device)\n",
    "\n",
    "    # 1) 백본 로드 (strict=False 권장: 일부 키 불일치 허용)\n",
    "    bb_raw = torch.load(backbone_ckpt_path, map_location=device)\n",
    "    bb_sd = bb_raw[\"state_dict\"] if isinstance(bb_raw, dict) and \"state_dict\" in bb_raw else bb_raw\n",
    "    bb_sd = normalize_keys(bb_sd)\n",
    "    bb_sd = pick_backbone_only(bb_sd)\n",
    "    missing, unexpected = model.load_state_dict(bb_sd, strict=strict_backbone)\n",
    "    # strict=False일 때 PyTorch의 반환값은 없으므로 아래와 같이 수동 점검\n",
    "    # (여기서는 불일치가 있더라도 오류로 삼지 않음)\n",
    "\n",
    "    # 2) 분류기 가중치만 추출하여 덮어쓰기\n",
    "    clf_raw = torch.load(classifier_ckpt_path, map_location=device)\n",
    "    clf_sd_full = clf_raw[\"state_dict\"] if isinstance(clf_raw, dict) and \"state_dict\" in clf_raw else clf_raw\n",
    "    clf_sd_full = normalize_keys(clf_sd_full)\n",
    "    clf_sd = pick_classifier_only(clf_sd_full)\n",
    "\n",
    "    if not clf_sd:\n",
    "        raise ValueError(\n",
    "            \"classifier_ckpt에서 분류기(fc.*) 파라미터를 찾지 못했습니다. \"\n",
    "            \"네임스페이스를 확인하거나 pick_classifier_only() 규칙을 보완하세요.\"\n",
    "        )\n",
    "\n",
    "    # 2-1) 아웃풋 클래스 수 확인 및 필요 시 FC 재구성\n",
    "    # (분류기 ckpt의 fc.weight shape 를 참고)\n",
    "    fc_w = clf_sd.get(\"fc.weight\", None)\n",
    "    if fc_w is not None:\n",
    "        num_classes_from_ckpt = fc_w.shape[0]\n",
    "        if num_classes_from_ckpt != num_classes:\n",
    "            # ckpt의 분류기 헤드는 현재 num_classes와 다름 → 헤드를 재구성\n",
    "            in_feat = model.fc.in_features\n",
    "            model.fc = nn.Linear(in_feat, num_classes).to(device)\n",
    "            # shape가 맞지 않으므로 가중치 로드는 생략(=랜덤 초기화 상태 유지)\n",
    "            # 필요하면 class-map에 맞춘 재매핑 로직을 추가하세요.\n",
    "        else:\n",
    "            # shape 일치 → 그대로 로드\n",
    "            state = model.state_dict()\n",
    "            state.update(clf_sd)  # fc.weight / fc.bias 덮어쓰기\n",
    "            model.load_state_dict(state, strict=True)\n",
    "    else:\n",
    "        # fc.weight가 없으면 그냥 현재 model.fc를 유지\n",
    "        pass\n",
    "\n",
    "    return model\n"
   ]
  },
  {
   "cell_type": "code",
   "execution_count": 34,
   "id": "50b542d0",
   "metadata": {},
   "outputs": [
    {
     "name": "stderr",
     "output_type": "stream",
     "text": [
      "C:\\Users\\gauoo\\AppData\\Local\\Temp\\ipykernel_69556\\970586832.py:48: FutureWarning: You are using `torch.load` with `weights_only=False` (the current default value), which uses the default pickle module implicitly. It is possible to construct malicious pickle data which will execute arbitrary code during unpickling (See https://github.com/pytorch/pytorch/blob/main/SECURITY.md#untrusted-models for more details). In a future release, the default value for `weights_only` will be flipped to `True`. This limits the functions that could be executed during unpickling. Arbitrary objects will no longer be allowed to be loaded via this mode unless they are explicitly allowlisted by the user via `torch.serialization.add_safe_globals`. We recommend you start setting `weights_only=True` for any use case where you don't have full control of the loaded file. Please open an issue on GitHub for any issues related to this experimental feature.\n",
      "  bb_raw = torch.load(backbone_ckpt_path, map_location=device)\n",
      "C:\\Users\\gauoo\\AppData\\Local\\Temp\\ipykernel_69556\\970586832.py:57: FutureWarning: You are using `torch.load` with `weights_only=False` (the current default value), which uses the default pickle module implicitly. It is possible to construct malicious pickle data which will execute arbitrary code during unpickling (See https://github.com/pytorch/pytorch/blob/main/SECURITY.md#untrusted-models for more details). In a future release, the default value for `weights_only` will be flipped to `True`. This limits the functions that could be executed during unpickling. Arbitrary objects will no longer be allowed to be loaded via this mode unless they are explicitly allowlisted by the user via `torch.serialization.add_safe_globals`. We recommend you start setting `weights_only=True` for any use case where you don't have full control of the loaded file. Please open an issue on GitHub for any issues related to this experimental feature.\n",
      "  clf_raw = torch.load(classifier_ckpt_path, map_location=device)\n",
      "100%|██████████| 40/40 [00:11<00:00,  3.35it/s]"
     ]
    },
    {
     "name": "stdout",
     "output_type": "stream",
     "text": [
      "[Merged Eval] dataset=cifar10 acc=0.8885 loss=0.6321 (n=10000)\n"
     ]
    },
    {
     "name": "stderr",
     "output_type": "stream",
     "text": [
      "\n"
     ]
    }
   ],
   "source": [
    "# (A) tiny_imagenet: backbone + classifier 병합\n",
    "arch = \"resnet34\"\n",
    "dataset = \"cifar10\"\n",
    "num_classes = DATASET2NUM[dataset]\n",
    "device = \"cuda\" if torch.cuda.is_available() else \"cpu\"\n",
    "\n",
    "merged_model = merge_backbone_and_classifier(\n",
    "    backbone_ckpt_path=f\"src/model/ckpts/resnet34_{dataset}_backbone.pt\",\n",
    "    classifier_ckpt_path=f\"src/model/ckpts/resnet34_{dataset}_classifier.pt\",\n",
    "    arch=arch,\n",
    "    num_classes=num_classes,\n",
    "    device=device,\n",
    ")\n",
    "\n",
    "# 평가 (기존 evaluate()/loaders() 재사용)\n",
    "_, test_loaders = loaders(batch_size=256, root=\"dataset\", num_workers=4, pin_memory=True, download=False)\n",
    "stats = evaluate(merged_model, test_loaders[dataset], device)\n",
    "print(f\"[Merged Eval] dataset={dataset} acc={stats['acc']:.4f} loss={stats['loss']:.4f} (n={stats['size']})\")\n"
   ]
  },
  {
   "cell_type": "code",
   "execution_count": 35,
   "id": "78294078",
   "metadata": {},
   "outputs": [
    {
     "name": "stderr",
     "output_type": "stream",
     "text": [
      "C:\\Users\\gauoo\\AppData\\Local\\Temp\\ipykernel_69556\\1744052472.py:12: FutureWarning: You are using `torch.load` with `weights_only=False` (the current default value), which uses the default pickle module implicitly. It is possible to construct malicious pickle data which will execute arbitrary code during unpickling (See https://github.com/pytorch/pytorch/blob/main/SECURITY.md#untrusted-models for more details). In a future release, the default value for `weights_only` will be flipped to `True`. This limits the functions that could be executed during unpickling. Arbitrary objects will no longer be allowed to be loaded via this mode unless they are explicitly allowlisted by the user via `torch.serialization.add_safe_globals`. We recommend you start setting `weights_only=True` for any use case where you don't have full control of the loaded file. Please open an issue on GitHub for any issues related to this experimental feature.\n",
      "  ckpt = torch.load(ckpt_path, map_location=device)\n"
     ]
    },
    {
     "name": "stdout",
     "output_type": "stream",
     "text": [
      "✅ 백본 가중치가 완전히 동일합니다.\n"
     ]
    },
    {
     "data": {
      "text/plain": [
       "True"
      ]
     },
     "execution_count": 35,
     "metadata": {},
     "output_type": "execute_result"
    }
   ],
   "source": [
    "import torch\n",
    "\n",
    "def strip_prefix(k: str):\n",
    "    \"\"\"공통 prefix 제거 (module., backbone., encoder. 등)\"\"\"\n",
    "    for p in (\"module.\", \"backbone.\", \"encoder.\"):\n",
    "        if k.startswith(p):\n",
    "            return k[len(p):]\n",
    "    return k\n",
    "\n",
    "def extract_backbone_state_dict(ckpt_path: str, device: str = \"cpu\"):\n",
    "    \"\"\"checkpoint에서 백본 부분만 추출\"\"\"\n",
    "    ckpt = torch.load(ckpt_path, map_location=device)\n",
    "    if isinstance(ckpt, dict):\n",
    "        # Trainer best.pt 형식: {\"model\": state_dict, ...}\n",
    "        if \"model\" in ckpt:\n",
    "            sd = ckpt[\"model\"]\n",
    "        elif \"state_dict\" in ckpt:\n",
    "            sd = ckpt[\"state_dict\"]\n",
    "        else:\n",
    "            sd = ckpt\n",
    "    else:\n",
    "        sd = ckpt\n",
    "\n",
    "    # prefix 제거\n",
    "    sd = {strip_prefix(k): v for k, v in sd.items()}\n",
    "    # fc.* 키 제거 → 백본만 남김\n",
    "    sd_backbone = {k: v for k, v in sd.items() if not k.startswith(\"fc.\")}\n",
    "    return sd_backbone\n",
    "\n",
    "def compare_backbones(path1: str, path2: str, device: str = \"cpu\", atol=1e-6, rtol=1e-5):\n",
    "    bb1 = extract_backbone_state_dict(path1, device)\n",
    "    bb2 = extract_backbone_state_dict(path2, device)\n",
    "\n",
    "    # 키 비교\n",
    "    keys1, keys2 = set(bb1.keys()), set(bb2.keys())\n",
    "    if keys1 != keys2:\n",
    "        missing_1 = keys2 - keys1\n",
    "        missing_2 = keys1 - keys2\n",
    "        print(f\"[Key mismatch] in {path1}: missing {len(missing_1)}, in {path2}: missing {len(missing_2)}\")\n",
    "        return False\n",
    "\n",
    "    # 값 비교\n",
    "    all_match = True\n",
    "    for k in bb1.keys():\n",
    "        if not torch.allclose(bb1[k].cpu(), bb2[k].cpu(), atol=atol, rtol=rtol):\n",
    "            print(f\"[Mismatch] {k}\")\n",
    "            all_match = False\n",
    "\n",
    "    if all_match:\n",
    "        print(\"✅ 백본 가중치가 완전히 동일합니다.\")\n",
    "    else:\n",
    "        print(\"❌ 일부 백본 파라미터가 다릅니다.\")\n",
    "\n",
    "    return all_match\n",
    "\n",
    "# 예시 실행\n",
    "best_pt = \"runs/01_baseline_test/cifar10/teacher/finetune/checkpoints/best.pt\"\n",
    "backbone_pt = \"src/model/ckpts/resnet34_cifar10_backbone.pt\"\n",
    "\n",
    "compare_backbones(best_pt, backbone_pt, device=\"cpu\")\n"
   ]
  },
  {
   "cell_type": "code",
   "execution_count": 36,
   "id": "faee18f5",
   "metadata": {},
   "outputs": [
    {
     "data": {
      "text/plain": [
       "ResNet(\n",
       "  (conv1): Conv2d(3, 64, kernel_size=(7, 7), stride=(2, 2), padding=(3, 3), bias=False)\n",
       "  (bn1): BatchNorm2d(64, eps=1e-05, momentum=0.1, affine=True, track_running_stats=True)\n",
       "  (relu): ReLU(inplace=True)\n",
       "  (maxpool): MaxPool2d(kernel_size=3, stride=2, padding=1, dilation=1, ceil_mode=False)\n",
       "  (layer1): Sequential(\n",
       "    (0): BasicBlock(\n",
       "      (conv1): Conv2d(64, 64, kernel_size=(3, 3), stride=(1, 1), padding=(1, 1), bias=False)\n",
       "      (bn1): BatchNorm2d(64, eps=1e-05, momentum=0.1, affine=True, track_running_stats=True)\n",
       "      (relu): ReLU(inplace=True)\n",
       "      (conv2): Conv2d(64, 64, kernel_size=(3, 3), stride=(1, 1), padding=(1, 1), bias=False)\n",
       "      (bn2): BatchNorm2d(64, eps=1e-05, momentum=0.1, affine=True, track_running_stats=True)\n",
       "    )\n",
       "    (1): BasicBlock(\n",
       "      (conv1): Conv2d(64, 64, kernel_size=(3, 3), stride=(1, 1), padding=(1, 1), bias=False)\n",
       "      (bn1): BatchNorm2d(64, eps=1e-05, momentum=0.1, affine=True, track_running_stats=True)\n",
       "      (relu): ReLU(inplace=True)\n",
       "      (conv2): Conv2d(64, 64, kernel_size=(3, 3), stride=(1, 1), padding=(1, 1), bias=False)\n",
       "      (bn2): BatchNorm2d(64, eps=1e-05, momentum=0.1, affine=True, track_running_stats=True)\n",
       "    )\n",
       "    (2): BasicBlock(\n",
       "      (conv1): Conv2d(64, 64, kernel_size=(3, 3), stride=(1, 1), padding=(1, 1), bias=False)\n",
       "      (bn1): BatchNorm2d(64, eps=1e-05, momentum=0.1, affine=True, track_running_stats=True)\n",
       "      (relu): ReLU(inplace=True)\n",
       "      (conv2): Conv2d(64, 64, kernel_size=(3, 3), stride=(1, 1), padding=(1, 1), bias=False)\n",
       "      (bn2): BatchNorm2d(64, eps=1e-05, momentum=0.1, affine=True, track_running_stats=True)\n",
       "    )\n",
       "  )\n",
       "  (layer2): Sequential(\n",
       "    (0): BasicBlock(\n",
       "      (conv1): Conv2d(64, 128, kernel_size=(3, 3), stride=(2, 2), padding=(1, 1), bias=False)\n",
       "      (bn1): BatchNorm2d(128, eps=1e-05, momentum=0.1, affine=True, track_running_stats=True)\n",
       "      (relu): ReLU(inplace=True)\n",
       "      (conv2): Conv2d(128, 128, kernel_size=(3, 3), stride=(1, 1), padding=(1, 1), bias=False)\n",
       "      (bn2): BatchNorm2d(128, eps=1e-05, momentum=0.1, affine=True, track_running_stats=True)\n",
       "      (downsample): Sequential(\n",
       "        (0): Conv2d(64, 128, kernel_size=(1, 1), stride=(2, 2), bias=False)\n",
       "        (1): BatchNorm2d(128, eps=1e-05, momentum=0.1, affine=True, track_running_stats=True)\n",
       "      )\n",
       "    )\n",
       "    (1): BasicBlock(\n",
       "      (conv1): Conv2d(128, 128, kernel_size=(3, 3), stride=(1, 1), padding=(1, 1), bias=False)\n",
       "      (bn1): BatchNorm2d(128, eps=1e-05, momentum=0.1, affine=True, track_running_stats=True)\n",
       "      (relu): ReLU(inplace=True)\n",
       "      (conv2): Conv2d(128, 128, kernel_size=(3, 3), stride=(1, 1), padding=(1, 1), bias=False)\n",
       "      (bn2): BatchNorm2d(128, eps=1e-05, momentum=0.1, affine=True, track_running_stats=True)\n",
       "    )\n",
       "    (2): BasicBlock(\n",
       "      (conv1): Conv2d(128, 128, kernel_size=(3, 3), stride=(1, 1), padding=(1, 1), bias=False)\n",
       "      (bn1): BatchNorm2d(128, eps=1e-05, momentum=0.1, affine=True, track_running_stats=True)\n",
       "      (relu): ReLU(inplace=True)\n",
       "      (conv2): Conv2d(128, 128, kernel_size=(3, 3), stride=(1, 1), padding=(1, 1), bias=False)\n",
       "      (bn2): BatchNorm2d(128, eps=1e-05, momentum=0.1, affine=True, track_running_stats=True)\n",
       "    )\n",
       "    (3): BasicBlock(\n",
       "      (conv1): Conv2d(128, 128, kernel_size=(3, 3), stride=(1, 1), padding=(1, 1), bias=False)\n",
       "      (bn1): BatchNorm2d(128, eps=1e-05, momentum=0.1, affine=True, track_running_stats=True)\n",
       "      (relu): ReLU(inplace=True)\n",
       "      (conv2): Conv2d(128, 128, kernel_size=(3, 3), stride=(1, 1), padding=(1, 1), bias=False)\n",
       "      (bn2): BatchNorm2d(128, eps=1e-05, momentum=0.1, affine=True, track_running_stats=True)\n",
       "    )\n",
       "  )\n",
       "  (layer3): Sequential(\n",
       "    (0): BasicBlock(\n",
       "      (conv1): Conv2d(128, 256, kernel_size=(3, 3), stride=(2, 2), padding=(1, 1), bias=False)\n",
       "      (bn1): BatchNorm2d(256, eps=1e-05, momentum=0.1, affine=True, track_running_stats=True)\n",
       "      (relu): ReLU(inplace=True)\n",
       "      (conv2): Conv2d(256, 256, kernel_size=(3, 3), stride=(1, 1), padding=(1, 1), bias=False)\n",
       "      (bn2): BatchNorm2d(256, eps=1e-05, momentum=0.1, affine=True, track_running_stats=True)\n",
       "      (downsample): Sequential(\n",
       "        (0): Conv2d(128, 256, kernel_size=(1, 1), stride=(2, 2), bias=False)\n",
       "        (1): BatchNorm2d(256, eps=1e-05, momentum=0.1, affine=True, track_running_stats=True)\n",
       "      )\n",
       "    )\n",
       "    (1): BasicBlock(\n",
       "      (conv1): Conv2d(256, 256, kernel_size=(3, 3), stride=(1, 1), padding=(1, 1), bias=False)\n",
       "      (bn1): BatchNorm2d(256, eps=1e-05, momentum=0.1, affine=True, track_running_stats=True)\n",
       "      (relu): ReLU(inplace=True)\n",
       "      (conv2): Conv2d(256, 256, kernel_size=(3, 3), stride=(1, 1), padding=(1, 1), bias=False)\n",
       "      (bn2): BatchNorm2d(256, eps=1e-05, momentum=0.1, affine=True, track_running_stats=True)\n",
       "    )\n",
       "    (2): BasicBlock(\n",
       "      (conv1): Conv2d(256, 256, kernel_size=(3, 3), stride=(1, 1), padding=(1, 1), bias=False)\n",
       "      (bn1): BatchNorm2d(256, eps=1e-05, momentum=0.1, affine=True, track_running_stats=True)\n",
       "      (relu): ReLU(inplace=True)\n",
       "      (conv2): Conv2d(256, 256, kernel_size=(3, 3), stride=(1, 1), padding=(1, 1), bias=False)\n",
       "      (bn2): BatchNorm2d(256, eps=1e-05, momentum=0.1, affine=True, track_running_stats=True)\n",
       "    )\n",
       "    (3): BasicBlock(\n",
       "      (conv1): Conv2d(256, 256, kernel_size=(3, 3), stride=(1, 1), padding=(1, 1), bias=False)\n",
       "      (bn1): BatchNorm2d(256, eps=1e-05, momentum=0.1, affine=True, track_running_stats=True)\n",
       "      (relu): ReLU(inplace=True)\n",
       "      (conv2): Conv2d(256, 256, kernel_size=(3, 3), stride=(1, 1), padding=(1, 1), bias=False)\n",
       "      (bn2): BatchNorm2d(256, eps=1e-05, momentum=0.1, affine=True, track_running_stats=True)\n",
       "    )\n",
       "    (4): BasicBlock(\n",
       "      (conv1): Conv2d(256, 256, kernel_size=(3, 3), stride=(1, 1), padding=(1, 1), bias=False)\n",
       "      (bn1): BatchNorm2d(256, eps=1e-05, momentum=0.1, affine=True, track_running_stats=True)\n",
       "      (relu): ReLU(inplace=True)\n",
       "      (conv2): Conv2d(256, 256, kernel_size=(3, 3), stride=(1, 1), padding=(1, 1), bias=False)\n",
       "      (bn2): BatchNorm2d(256, eps=1e-05, momentum=0.1, affine=True, track_running_stats=True)\n",
       "    )\n",
       "    (5): BasicBlock(\n",
       "      (conv1): Conv2d(256, 256, kernel_size=(3, 3), stride=(1, 1), padding=(1, 1), bias=False)\n",
       "      (bn1): BatchNorm2d(256, eps=1e-05, momentum=0.1, affine=True, track_running_stats=True)\n",
       "      (relu): ReLU(inplace=True)\n",
       "      (conv2): Conv2d(256, 256, kernel_size=(3, 3), stride=(1, 1), padding=(1, 1), bias=False)\n",
       "      (bn2): BatchNorm2d(256, eps=1e-05, momentum=0.1, affine=True, track_running_stats=True)\n",
       "    )\n",
       "  )\n",
       "  (layer4): Sequential(\n",
       "    (0): BasicBlock(\n",
       "      (conv1): Conv2d(256, 512, kernel_size=(3, 3), stride=(2, 2), padding=(1, 1), bias=False)\n",
       "      (bn1): BatchNorm2d(512, eps=1e-05, momentum=0.1, affine=True, track_running_stats=True)\n",
       "      (relu): ReLU(inplace=True)\n",
       "      (conv2): Conv2d(512, 512, kernel_size=(3, 3), stride=(1, 1), padding=(1, 1), bias=False)\n",
       "      (bn2): BatchNorm2d(512, eps=1e-05, momentum=0.1, affine=True, track_running_stats=True)\n",
       "      (downsample): Sequential(\n",
       "        (0): Conv2d(256, 512, kernel_size=(1, 1), stride=(2, 2), bias=False)\n",
       "        (1): BatchNorm2d(512, eps=1e-05, momentum=0.1, affine=True, track_running_stats=True)\n",
       "      )\n",
       "    )\n",
       "    (1): BasicBlock(\n",
       "      (conv1): Conv2d(512, 512, kernel_size=(3, 3), stride=(1, 1), padding=(1, 1), bias=False)\n",
       "      (bn1): BatchNorm2d(512, eps=1e-05, momentum=0.1, affine=True, track_running_stats=True)\n",
       "      (relu): ReLU(inplace=True)\n",
       "      (conv2): Conv2d(512, 512, kernel_size=(3, 3), stride=(1, 1), padding=(1, 1), bias=False)\n",
       "      (bn2): BatchNorm2d(512, eps=1e-05, momentum=0.1, affine=True, track_running_stats=True)\n",
       "    )\n",
       "    (2): BasicBlock(\n",
       "      (conv1): Conv2d(512, 512, kernel_size=(3, 3), stride=(1, 1), padding=(1, 1), bias=False)\n",
       "      (bn1): BatchNorm2d(512, eps=1e-05, momentum=0.1, affine=True, track_running_stats=True)\n",
       "      (relu): ReLU(inplace=True)\n",
       "      (conv2): Conv2d(512, 512, kernel_size=(3, 3), stride=(1, 1), padding=(1, 1), bias=False)\n",
       "      (bn2): BatchNorm2d(512, eps=1e-05, momentum=0.1, affine=True, track_running_stats=True)\n",
       "    )\n",
       "  )\n",
       "  (avgpool): AdaptiveAvgPool2d(output_size=(1, 1))\n",
       "  (fc): Linear(in_features=512, out_features=10, bias=True)\n",
       ")"
      ]
     },
     "execution_count": 36,
     "metadata": {},
     "output_type": "execute_result"
    }
   ],
   "source": [
    "merged_model"
   ]
  },
  {
   "cell_type": "code",
   "execution_count": 37,
   "id": "0f28246c",
   "metadata": {},
   "outputs": [
    {
     "data": {
      "text/plain": [
       "ResNet(\n",
       "  (conv1): Conv2d(3, 64, kernel_size=(7, 7), stride=(2, 2), padding=(3, 3), bias=False)\n",
       "  (bn1): BatchNorm2d(64, eps=1e-05, momentum=0.1, affine=True, track_running_stats=True)\n",
       "  (relu): ReLU(inplace=True)\n",
       "  (maxpool): MaxPool2d(kernel_size=3, stride=2, padding=1, dilation=1, ceil_mode=False)\n",
       "  (layer1): Sequential(\n",
       "    (0): BasicBlock(\n",
       "      (conv1): Conv2d(64, 64, kernel_size=(3, 3), stride=(1, 1), padding=(1, 1), bias=False)\n",
       "      (bn1): BatchNorm2d(64, eps=1e-05, momentum=0.1, affine=True, track_running_stats=True)\n",
       "      (relu): ReLU(inplace=True)\n",
       "      (conv2): Conv2d(64, 64, kernel_size=(3, 3), stride=(1, 1), padding=(1, 1), bias=False)\n",
       "      (bn2): BatchNorm2d(64, eps=1e-05, momentum=0.1, affine=True, track_running_stats=True)\n",
       "    )\n",
       "    (1): BasicBlock(\n",
       "      (conv1): Conv2d(64, 64, kernel_size=(3, 3), stride=(1, 1), padding=(1, 1), bias=False)\n",
       "      (bn1): BatchNorm2d(64, eps=1e-05, momentum=0.1, affine=True, track_running_stats=True)\n",
       "      (relu): ReLU(inplace=True)\n",
       "      (conv2): Conv2d(64, 64, kernel_size=(3, 3), stride=(1, 1), padding=(1, 1), bias=False)\n",
       "      (bn2): BatchNorm2d(64, eps=1e-05, momentum=0.1, affine=True, track_running_stats=True)\n",
       "    )\n",
       "    (2): BasicBlock(\n",
       "      (conv1): Conv2d(64, 64, kernel_size=(3, 3), stride=(1, 1), padding=(1, 1), bias=False)\n",
       "      (bn1): BatchNorm2d(64, eps=1e-05, momentum=0.1, affine=True, track_running_stats=True)\n",
       "      (relu): ReLU(inplace=True)\n",
       "      (conv2): Conv2d(64, 64, kernel_size=(3, 3), stride=(1, 1), padding=(1, 1), bias=False)\n",
       "      (bn2): BatchNorm2d(64, eps=1e-05, momentum=0.1, affine=True, track_running_stats=True)\n",
       "    )\n",
       "  )\n",
       "  (layer2): Sequential(\n",
       "    (0): BasicBlock(\n",
       "      (conv1): Conv2d(64, 128, kernel_size=(3, 3), stride=(2, 2), padding=(1, 1), bias=False)\n",
       "      (bn1): BatchNorm2d(128, eps=1e-05, momentum=0.1, affine=True, track_running_stats=True)\n",
       "      (relu): ReLU(inplace=True)\n",
       "      (conv2): Conv2d(128, 128, kernel_size=(3, 3), stride=(1, 1), padding=(1, 1), bias=False)\n",
       "      (bn2): BatchNorm2d(128, eps=1e-05, momentum=0.1, affine=True, track_running_stats=True)\n",
       "      (downsample): Sequential(\n",
       "        (0): Conv2d(64, 128, kernel_size=(1, 1), stride=(2, 2), bias=False)\n",
       "        (1): BatchNorm2d(128, eps=1e-05, momentum=0.1, affine=True, track_running_stats=True)\n",
       "      )\n",
       "    )\n",
       "    (1): BasicBlock(\n",
       "      (conv1): Conv2d(128, 128, kernel_size=(3, 3), stride=(1, 1), padding=(1, 1), bias=False)\n",
       "      (bn1): BatchNorm2d(128, eps=1e-05, momentum=0.1, affine=True, track_running_stats=True)\n",
       "      (relu): ReLU(inplace=True)\n",
       "      (conv2): Conv2d(128, 128, kernel_size=(3, 3), stride=(1, 1), padding=(1, 1), bias=False)\n",
       "      (bn2): BatchNorm2d(128, eps=1e-05, momentum=0.1, affine=True, track_running_stats=True)\n",
       "    )\n",
       "    (2): BasicBlock(\n",
       "      (conv1): Conv2d(128, 128, kernel_size=(3, 3), stride=(1, 1), padding=(1, 1), bias=False)\n",
       "      (bn1): BatchNorm2d(128, eps=1e-05, momentum=0.1, affine=True, track_running_stats=True)\n",
       "      (relu): ReLU(inplace=True)\n",
       "      (conv2): Conv2d(128, 128, kernel_size=(3, 3), stride=(1, 1), padding=(1, 1), bias=False)\n",
       "      (bn2): BatchNorm2d(128, eps=1e-05, momentum=0.1, affine=True, track_running_stats=True)\n",
       "    )\n",
       "    (3): BasicBlock(\n",
       "      (conv1): Conv2d(128, 128, kernel_size=(3, 3), stride=(1, 1), padding=(1, 1), bias=False)\n",
       "      (bn1): BatchNorm2d(128, eps=1e-05, momentum=0.1, affine=True, track_running_stats=True)\n",
       "      (relu): ReLU(inplace=True)\n",
       "      (conv2): Conv2d(128, 128, kernel_size=(3, 3), stride=(1, 1), padding=(1, 1), bias=False)\n",
       "      (bn2): BatchNorm2d(128, eps=1e-05, momentum=0.1, affine=True, track_running_stats=True)\n",
       "    )\n",
       "  )\n",
       "  (layer3): Sequential(\n",
       "    (0): BasicBlock(\n",
       "      (conv1): Conv2d(128, 256, kernel_size=(3, 3), stride=(2, 2), padding=(1, 1), bias=False)\n",
       "      (bn1): BatchNorm2d(256, eps=1e-05, momentum=0.1, affine=True, track_running_stats=True)\n",
       "      (relu): ReLU(inplace=True)\n",
       "      (conv2): Conv2d(256, 256, kernel_size=(3, 3), stride=(1, 1), padding=(1, 1), bias=False)\n",
       "      (bn2): BatchNorm2d(256, eps=1e-05, momentum=0.1, affine=True, track_running_stats=True)\n",
       "      (downsample): Sequential(\n",
       "        (0): Conv2d(128, 256, kernel_size=(1, 1), stride=(2, 2), bias=False)\n",
       "        (1): BatchNorm2d(256, eps=1e-05, momentum=0.1, affine=True, track_running_stats=True)\n",
       "      )\n",
       "    )\n",
       "    (1): BasicBlock(\n",
       "      (conv1): Conv2d(256, 256, kernel_size=(3, 3), stride=(1, 1), padding=(1, 1), bias=False)\n",
       "      (bn1): BatchNorm2d(256, eps=1e-05, momentum=0.1, affine=True, track_running_stats=True)\n",
       "      (relu): ReLU(inplace=True)\n",
       "      (conv2): Conv2d(256, 256, kernel_size=(3, 3), stride=(1, 1), padding=(1, 1), bias=False)\n",
       "      (bn2): BatchNorm2d(256, eps=1e-05, momentum=0.1, affine=True, track_running_stats=True)\n",
       "    )\n",
       "    (2): BasicBlock(\n",
       "      (conv1): Conv2d(256, 256, kernel_size=(3, 3), stride=(1, 1), padding=(1, 1), bias=False)\n",
       "      (bn1): BatchNorm2d(256, eps=1e-05, momentum=0.1, affine=True, track_running_stats=True)\n",
       "      (relu): ReLU(inplace=True)\n",
       "      (conv2): Conv2d(256, 256, kernel_size=(3, 3), stride=(1, 1), padding=(1, 1), bias=False)\n",
       "      (bn2): BatchNorm2d(256, eps=1e-05, momentum=0.1, affine=True, track_running_stats=True)\n",
       "    )\n",
       "    (3): BasicBlock(\n",
       "      (conv1): Conv2d(256, 256, kernel_size=(3, 3), stride=(1, 1), padding=(1, 1), bias=False)\n",
       "      (bn1): BatchNorm2d(256, eps=1e-05, momentum=0.1, affine=True, track_running_stats=True)\n",
       "      (relu): ReLU(inplace=True)\n",
       "      (conv2): Conv2d(256, 256, kernel_size=(3, 3), stride=(1, 1), padding=(1, 1), bias=False)\n",
       "      (bn2): BatchNorm2d(256, eps=1e-05, momentum=0.1, affine=True, track_running_stats=True)\n",
       "    )\n",
       "    (4): BasicBlock(\n",
       "      (conv1): Conv2d(256, 256, kernel_size=(3, 3), stride=(1, 1), padding=(1, 1), bias=False)\n",
       "      (bn1): BatchNorm2d(256, eps=1e-05, momentum=0.1, affine=True, track_running_stats=True)\n",
       "      (relu): ReLU(inplace=True)\n",
       "      (conv2): Conv2d(256, 256, kernel_size=(3, 3), stride=(1, 1), padding=(1, 1), bias=False)\n",
       "      (bn2): BatchNorm2d(256, eps=1e-05, momentum=0.1, affine=True, track_running_stats=True)\n",
       "    )\n",
       "    (5): BasicBlock(\n",
       "      (conv1): Conv2d(256, 256, kernel_size=(3, 3), stride=(1, 1), padding=(1, 1), bias=False)\n",
       "      (bn1): BatchNorm2d(256, eps=1e-05, momentum=0.1, affine=True, track_running_stats=True)\n",
       "      (relu): ReLU(inplace=True)\n",
       "      (conv2): Conv2d(256, 256, kernel_size=(3, 3), stride=(1, 1), padding=(1, 1), bias=False)\n",
       "      (bn2): BatchNorm2d(256, eps=1e-05, momentum=0.1, affine=True, track_running_stats=True)\n",
       "    )\n",
       "  )\n",
       "  (layer4): Sequential(\n",
       "    (0): BasicBlock(\n",
       "      (conv1): Conv2d(256, 512, kernel_size=(3, 3), stride=(2, 2), padding=(1, 1), bias=False)\n",
       "      (bn1): BatchNorm2d(512, eps=1e-05, momentum=0.1, affine=True, track_running_stats=True)\n",
       "      (relu): ReLU(inplace=True)\n",
       "      (conv2): Conv2d(512, 512, kernel_size=(3, 3), stride=(1, 1), padding=(1, 1), bias=False)\n",
       "      (bn2): BatchNorm2d(512, eps=1e-05, momentum=0.1, affine=True, track_running_stats=True)\n",
       "      (downsample): Sequential(\n",
       "        (0): Conv2d(256, 512, kernel_size=(1, 1), stride=(2, 2), bias=False)\n",
       "        (1): BatchNorm2d(512, eps=1e-05, momentum=0.1, affine=True, track_running_stats=True)\n",
       "      )\n",
       "    )\n",
       "    (1): BasicBlock(\n",
       "      (conv1): Conv2d(512, 512, kernel_size=(3, 3), stride=(1, 1), padding=(1, 1), bias=False)\n",
       "      (bn1): BatchNorm2d(512, eps=1e-05, momentum=0.1, affine=True, track_running_stats=True)\n",
       "      (relu): ReLU(inplace=True)\n",
       "      (conv2): Conv2d(512, 512, kernel_size=(3, 3), stride=(1, 1), padding=(1, 1), bias=False)\n",
       "      (bn2): BatchNorm2d(512, eps=1e-05, momentum=0.1, affine=True, track_running_stats=True)\n",
       "    )\n",
       "    (2): BasicBlock(\n",
       "      (conv1): Conv2d(512, 512, kernel_size=(3, 3), stride=(1, 1), padding=(1, 1), bias=False)\n",
       "      (bn1): BatchNorm2d(512, eps=1e-05, momentum=0.1, affine=True, track_running_stats=True)\n",
       "      (relu): ReLU(inplace=True)\n",
       "      (conv2): Conv2d(512, 512, kernel_size=(3, 3), stride=(1, 1), padding=(1, 1), bias=False)\n",
       "      (bn2): BatchNorm2d(512, eps=1e-05, momentum=0.1, affine=True, track_running_stats=True)\n",
       "    )\n",
       "  )\n",
       "  (avgpool): AdaptiveAvgPool2d(output_size=(1, 1))\n",
       "  (fc): Linear(in_features=512, out_features=10, bias=True)\n",
       ")"
      ]
     },
     "execution_count": 37,
     "metadata": {},
     "output_type": "execute_result"
    }
   ],
   "source": [
    "model"
   ]
  },
  {
   "cell_type": "code",
   "execution_count": 38,
   "id": "aa85a177",
   "metadata": {},
   "outputs": [
    {
     "data": {
      "text/plain": [
       "ResNet(\n",
       "  (conv1): Conv2d(3, 64, kernel_size=(7, 7), stride=(2, 2), padding=(3, 3), bias=False)\n",
       "  (bn1): BatchNorm2d(64, eps=1e-05, momentum=0.1, affine=True, track_running_stats=True)\n",
       "  (relu): ReLU(inplace=True)\n",
       "  (maxpool): MaxPool2d(kernel_size=3, stride=2, padding=1, dilation=1, ceil_mode=False)\n",
       "  (layer1): Sequential(\n",
       "    (0): BasicBlock(\n",
       "      (conv1): Conv2d(64, 64, kernel_size=(3, 3), stride=(1, 1), padding=(1, 1), bias=False)\n",
       "      (bn1): BatchNorm2d(64, eps=1e-05, momentum=0.1, affine=True, track_running_stats=True)\n",
       "      (relu): ReLU(inplace=True)\n",
       "      (conv2): Conv2d(64, 64, kernel_size=(3, 3), stride=(1, 1), padding=(1, 1), bias=False)\n",
       "      (bn2): BatchNorm2d(64, eps=1e-05, momentum=0.1, affine=True, track_running_stats=True)\n",
       "    )\n",
       "    (1): BasicBlock(\n",
       "      (conv1): Conv2d(64, 64, kernel_size=(3, 3), stride=(1, 1), padding=(1, 1), bias=False)\n",
       "      (bn1): BatchNorm2d(64, eps=1e-05, momentum=0.1, affine=True, track_running_stats=True)\n",
       "      (relu): ReLU(inplace=True)\n",
       "      (conv2): Conv2d(64, 64, kernel_size=(3, 3), stride=(1, 1), padding=(1, 1), bias=False)\n",
       "      (bn2): BatchNorm2d(64, eps=1e-05, momentum=0.1, affine=True, track_running_stats=True)\n",
       "    )\n",
       "    (2): BasicBlock(\n",
       "      (conv1): Conv2d(64, 64, kernel_size=(3, 3), stride=(1, 1), padding=(1, 1), bias=False)\n",
       "      (bn1): BatchNorm2d(64, eps=1e-05, momentum=0.1, affine=True, track_running_stats=True)\n",
       "      (relu): ReLU(inplace=True)\n",
       "      (conv2): Conv2d(64, 64, kernel_size=(3, 3), stride=(1, 1), padding=(1, 1), bias=False)\n",
       "      (bn2): BatchNorm2d(64, eps=1e-05, momentum=0.1, affine=True, track_running_stats=True)\n",
       "    )\n",
       "  )\n",
       "  (layer2): Sequential(\n",
       "    (0): BasicBlock(\n",
       "      (conv1): Conv2d(64, 128, kernel_size=(3, 3), stride=(2, 2), padding=(1, 1), bias=False)\n",
       "      (bn1): BatchNorm2d(128, eps=1e-05, momentum=0.1, affine=True, track_running_stats=True)\n",
       "      (relu): ReLU(inplace=True)\n",
       "      (conv2): Conv2d(128, 128, kernel_size=(3, 3), stride=(1, 1), padding=(1, 1), bias=False)\n",
       "      (bn2): BatchNorm2d(128, eps=1e-05, momentum=0.1, affine=True, track_running_stats=True)\n",
       "      (downsample): Sequential(\n",
       "        (0): Conv2d(64, 128, kernel_size=(1, 1), stride=(2, 2), bias=False)\n",
       "        (1): BatchNorm2d(128, eps=1e-05, momentum=0.1, affine=True, track_running_stats=True)\n",
       "      )\n",
       "    )\n",
       "    (1): BasicBlock(\n",
       "      (conv1): Conv2d(128, 128, kernel_size=(3, 3), stride=(1, 1), padding=(1, 1), bias=False)\n",
       "      (bn1): BatchNorm2d(128, eps=1e-05, momentum=0.1, affine=True, track_running_stats=True)\n",
       "      (relu): ReLU(inplace=True)\n",
       "      (conv2): Conv2d(128, 128, kernel_size=(3, 3), stride=(1, 1), padding=(1, 1), bias=False)\n",
       "      (bn2): BatchNorm2d(128, eps=1e-05, momentum=0.1, affine=True, track_running_stats=True)\n",
       "    )\n",
       "    (2): BasicBlock(\n",
       "      (conv1): Conv2d(128, 128, kernel_size=(3, 3), stride=(1, 1), padding=(1, 1), bias=False)\n",
       "      (bn1): BatchNorm2d(128, eps=1e-05, momentum=0.1, affine=True, track_running_stats=True)\n",
       "      (relu): ReLU(inplace=True)\n",
       "      (conv2): Conv2d(128, 128, kernel_size=(3, 3), stride=(1, 1), padding=(1, 1), bias=False)\n",
       "      (bn2): BatchNorm2d(128, eps=1e-05, momentum=0.1, affine=True, track_running_stats=True)\n",
       "    )\n",
       "    (3): BasicBlock(\n",
       "      (conv1): Conv2d(128, 128, kernel_size=(3, 3), stride=(1, 1), padding=(1, 1), bias=False)\n",
       "      (bn1): BatchNorm2d(128, eps=1e-05, momentum=0.1, affine=True, track_running_stats=True)\n",
       "      (relu): ReLU(inplace=True)\n",
       "      (conv2): Conv2d(128, 128, kernel_size=(3, 3), stride=(1, 1), padding=(1, 1), bias=False)\n",
       "      (bn2): BatchNorm2d(128, eps=1e-05, momentum=0.1, affine=True, track_running_stats=True)\n",
       "    )\n",
       "  )\n",
       "  (layer3): Sequential(\n",
       "    (0): BasicBlock(\n",
       "      (conv1): Conv2d(128, 256, kernel_size=(3, 3), stride=(2, 2), padding=(1, 1), bias=False)\n",
       "      (bn1): BatchNorm2d(256, eps=1e-05, momentum=0.1, affine=True, track_running_stats=True)\n",
       "      (relu): ReLU(inplace=True)\n",
       "      (conv2): Conv2d(256, 256, kernel_size=(3, 3), stride=(1, 1), padding=(1, 1), bias=False)\n",
       "      (bn2): BatchNorm2d(256, eps=1e-05, momentum=0.1, affine=True, track_running_stats=True)\n",
       "      (downsample): Sequential(\n",
       "        (0): Conv2d(128, 256, kernel_size=(1, 1), stride=(2, 2), bias=False)\n",
       "        (1): BatchNorm2d(256, eps=1e-05, momentum=0.1, affine=True, track_running_stats=True)\n",
       "      )\n",
       "    )\n",
       "    (1): BasicBlock(\n",
       "      (conv1): Conv2d(256, 256, kernel_size=(3, 3), stride=(1, 1), padding=(1, 1), bias=False)\n",
       "      (bn1): BatchNorm2d(256, eps=1e-05, momentum=0.1, affine=True, track_running_stats=True)\n",
       "      (relu): ReLU(inplace=True)\n",
       "      (conv2): Conv2d(256, 256, kernel_size=(3, 3), stride=(1, 1), padding=(1, 1), bias=False)\n",
       "      (bn2): BatchNorm2d(256, eps=1e-05, momentum=0.1, affine=True, track_running_stats=True)\n",
       "    )\n",
       "    (2): BasicBlock(\n",
       "      (conv1): Conv2d(256, 256, kernel_size=(3, 3), stride=(1, 1), padding=(1, 1), bias=False)\n",
       "      (bn1): BatchNorm2d(256, eps=1e-05, momentum=0.1, affine=True, track_running_stats=True)\n",
       "      (relu): ReLU(inplace=True)\n",
       "      (conv2): Conv2d(256, 256, kernel_size=(3, 3), stride=(1, 1), padding=(1, 1), bias=False)\n",
       "      (bn2): BatchNorm2d(256, eps=1e-05, momentum=0.1, affine=True, track_running_stats=True)\n",
       "    )\n",
       "    (3): BasicBlock(\n",
       "      (conv1): Conv2d(256, 256, kernel_size=(3, 3), stride=(1, 1), padding=(1, 1), bias=False)\n",
       "      (bn1): BatchNorm2d(256, eps=1e-05, momentum=0.1, affine=True, track_running_stats=True)\n",
       "      (relu): ReLU(inplace=True)\n",
       "      (conv2): Conv2d(256, 256, kernel_size=(3, 3), stride=(1, 1), padding=(1, 1), bias=False)\n",
       "      (bn2): BatchNorm2d(256, eps=1e-05, momentum=0.1, affine=True, track_running_stats=True)\n",
       "    )\n",
       "    (4): BasicBlock(\n",
       "      (conv1): Conv2d(256, 256, kernel_size=(3, 3), stride=(1, 1), padding=(1, 1), bias=False)\n",
       "      (bn1): BatchNorm2d(256, eps=1e-05, momentum=0.1, affine=True, track_running_stats=True)\n",
       "      (relu): ReLU(inplace=True)\n",
       "      (conv2): Conv2d(256, 256, kernel_size=(3, 3), stride=(1, 1), padding=(1, 1), bias=False)\n",
       "      (bn2): BatchNorm2d(256, eps=1e-05, momentum=0.1, affine=True, track_running_stats=True)\n",
       "    )\n",
       "    (5): BasicBlock(\n",
       "      (conv1): Conv2d(256, 256, kernel_size=(3, 3), stride=(1, 1), padding=(1, 1), bias=False)\n",
       "      (bn1): BatchNorm2d(256, eps=1e-05, momentum=0.1, affine=True, track_running_stats=True)\n",
       "      (relu): ReLU(inplace=True)\n",
       "      (conv2): Conv2d(256, 256, kernel_size=(3, 3), stride=(1, 1), padding=(1, 1), bias=False)\n",
       "      (bn2): BatchNorm2d(256, eps=1e-05, momentum=0.1, affine=True, track_running_stats=True)\n",
       "    )\n",
       "  )\n",
       "  (layer4): Sequential(\n",
       "    (0): BasicBlock(\n",
       "      (conv1): Conv2d(256, 512, kernel_size=(3, 3), stride=(2, 2), padding=(1, 1), bias=False)\n",
       "      (bn1): BatchNorm2d(512, eps=1e-05, momentum=0.1, affine=True, track_running_stats=True)\n",
       "      (relu): ReLU(inplace=True)\n",
       "      (conv2): Conv2d(512, 512, kernel_size=(3, 3), stride=(1, 1), padding=(1, 1), bias=False)\n",
       "      (bn2): BatchNorm2d(512, eps=1e-05, momentum=0.1, affine=True, track_running_stats=True)\n",
       "      (downsample): Sequential(\n",
       "        (0): Conv2d(256, 512, kernel_size=(1, 1), stride=(2, 2), bias=False)\n",
       "        (1): BatchNorm2d(512, eps=1e-05, momentum=0.1, affine=True, track_running_stats=True)\n",
       "      )\n",
       "    )\n",
       "    (1): BasicBlock(\n",
       "      (conv1): Conv2d(512, 512, kernel_size=(3, 3), stride=(1, 1), padding=(1, 1), bias=False)\n",
       "      (bn1): BatchNorm2d(512, eps=1e-05, momentum=0.1, affine=True, track_running_stats=True)\n",
       "      (relu): ReLU(inplace=True)\n",
       "      (conv2): Conv2d(512, 512, kernel_size=(3, 3), stride=(1, 1), padding=(1, 1), bias=False)\n",
       "      (bn2): BatchNorm2d(512, eps=1e-05, momentum=0.1, affine=True, track_running_stats=True)\n",
       "    )\n",
       "    (2): BasicBlock(\n",
       "      (conv1): Conv2d(512, 512, kernel_size=(3, 3), stride=(1, 1), padding=(1, 1), bias=False)\n",
       "      (bn1): BatchNorm2d(512, eps=1e-05, momentum=0.1, affine=True, track_running_stats=True)\n",
       "      (relu): ReLU(inplace=True)\n",
       "      (conv2): Conv2d(512, 512, kernel_size=(3, 3), stride=(1, 1), padding=(1, 1), bias=False)\n",
       "      (bn2): BatchNorm2d(512, eps=1e-05, momentum=0.1, affine=True, track_running_stats=True)\n",
       "    )\n",
       "  )\n",
       "  (avgpool): AdaptiveAvgPool2d(output_size=(1, 1))\n",
       "  (fc): Linear(in_features=512, out_features=10, bias=True)\n",
       ")"
      ]
     },
     "execution_count": 38,
     "metadata": {},
     "output_type": "execute_result"
    }
   ],
   "source": [
    "teacher"
   ]
  },
  {
   "cell_type": "code",
   "execution_count": 39,
   "id": "8b10e5f3",
   "metadata": {},
   "outputs": [
    {
     "name": "stderr",
     "output_type": "stream",
     "text": [
      "100%|██████████| 40/40 [00:00<00:00, 63.26it/s]"
     ]
    },
    {
     "name": "stdout",
     "output_type": "stream",
     "text": [
      "[Merged Eval] dataset=cifar10 acc=0.8885 loss=0.6321 (n=10000)\n"
     ]
    },
    {
     "name": "stderr",
     "output_type": "stream",
     "text": [
      "\n"
     ]
    }
   ],
   "source": [
    "stats = evaluate(teacher, test_loaders[dataset], device)\n",
    "print(f\"[Merged Eval] dataset={dataset} acc={stats['acc']:.4f} loss={stats['loss']:.4f} (n={stats['size']})\")\n"
   ]
  },
  {
   "cell_type": "code",
   "execution_count": 40,
   "id": "08f70b44",
   "metadata": {},
   "outputs": [],
   "source": [
    "import torch"
   ]
  },
  {
   "cell_type": "code",
   "execution_count": 54,
   "id": "e25df786",
   "metadata": {},
   "outputs": [
    {
     "name": "stderr",
     "output_type": "stream",
     "text": [
      "C:\\Users\\gauoo\\AppData\\Local\\Temp\\ipykernel_69556\\3474974156.py:1: FutureWarning: You are using `torch.load` with `weights_only=False` (the current default value), which uses the default pickle module implicitly. It is possible to construct malicious pickle data which will execute arbitrary code during unpickling (See https://github.com/pytorch/pytorch/blob/main/SECURITY.md#untrusted-models for more details). In a future release, the default value for `weights_only` will be flipped to `True`. This limits the functions that could be executed during unpickling. Arbitrary objects will no longer be allowed to be loaded via this mode unless they are explicitly allowlisted by the user via `torch.serialization.add_safe_globals`. We recommend you start setting `weights_only=True` for any use case where you don't have full control of the loaded file. Please open an issue on GitHub for any issues related to this experimental feature.\n",
      "  t = torch.load(r'src/model/ckpts/soft_targets/cifar10_fp16.pt')\n"
     ]
    }
   ],
   "source": [
    "t = torch.load(r'src/model/ckpts/soft_targets/cifar10_fp16.pt')"
   ]
  },
  {
   "cell_type": "code",
   "execution_count": 55,
   "id": "81a01bca",
   "metadata": {},
   "outputs": [],
   "source": [
    "l = t['logits']"
   ]
  },
  {
   "cell_type": "code",
   "execution_count": 56,
   "id": "79aea59f",
   "metadata": {},
   "outputs": [
    {
     "data": {
      "text/plain": [
       "[<matplotlib.lines.Line2D at 0x20b858cb4f0>]"
      ]
     },
     "execution_count": 56,
     "metadata": {},
     "output_type": "execute_result"
    },
    {
     "data": {
      "image/png": "[encoded data removed]",
      "text/plain": [
       "<Figure size 640x480 with 1 Axes>"
      ]
     },
     "metadata": {},
     "output_type": "display_data"
    }
   ],
   "source": [
    "import matplotlib.pyplot as plt\n",
    "plt.plot([1,2,3])"
   ]
  },
  {
   "cell_type": "code",
   "execution_count": 57,
   "id": "7d60d1b5",
   "metadata": {},
   "outputs": [
    {
     "data": {
      "text/plain": [
       "[<matplotlib.lines.Line2D at 0x20b9a8efa90>]"
      ]
     },
     "execution_count": 57,
     "metadata": {},
     "output_type": "execute_result"
    },
    {
     "data": {
      "image/png": "[encoded data removed]",
      "text/plain": [
       "<Figure size 640x480 with 1 Axes>"
      ]
     },
     "metadata": {},
     "output_type": "display_data"
    }
   ],
   "source": [
    "plt.plot(l[10])\n",
    "plt.plot(l[1])\n",
    "plt.plot(l[520])"
   ]
  },
  {
   "cell_type": "code",
   "execution_count": 46,
   "id": "fa96a0ae",
   "metadata": {},
   "outputs": [
    {
     "name": "stdout",
     "output_type": "stream",
     "text": [
      "[Step1] fc출력 vs 최종 logits max|diff| = 0\n",
      "\n",
      "[Step1] raw logits (first 5 samples, first 10 dims)\n",
      "tensor([[-10.4856,  -7.5395,  -7.9801,  12.1848, -10.5190,   4.0430,  -3.4037,\n",
      "          -8.5963, -13.3553,  -8.3005],\n",
      "        [  2.8084,   0.5639, -11.7855,  -8.1076, -12.7037, -14.1369, -14.0405,\n",
      "         -15.7579,  18.7900,   0.0608],\n",
      "        [  0.4710,   8.5628, -13.9593, -13.1612,  -5.7144, -13.4750, -15.3270,\n",
      "         -10.4337,  10.5032,  -0.2670],\n",
      "        [ 14.6049,  -4.9146,  -3.7491,  -6.1102, -13.6717, -18.3032, -16.3191,\n",
      "         -14.4122,   1.7668,   3.2805],\n",
      "        [-12.3778,  -9.6593,  -1.2176,  -2.0637,   6.9250, -10.5054,  17.6865,\n",
      "         -10.9632, -10.0856, -12.2022]])\n"
     ]
    }
   ],
   "source": [
    "import torch\n",
    "import torch.nn as nn\n",
    "import torch.nn.functional as F\n",
    "from math import log\n",
    "\n",
    "# ---- (선택) 여러분의 \"현재 구현\" soft-temperature 로직을 여기에 할당할 수 있습니다.\n",
    "# 예: def CURRENT_SOFT_FN(logits): return torch.softmax(logits / T_cur, dim=1)\n",
    "CURRENT_SOFT_FN = globals().get(\"CURRENT_SOFT_FN\", None)\n",
    "\n",
    "# ---- 1) fc forward hook으로 raw logits 캡처\n",
    "class _Capture:\n",
    "    def __init__(self):\n",
    "        self.outputs = None\n",
    "    def __call__(self, module, inputs, output):\n",
    "        self.outputs = output.detach()\n",
    "\n",
    "cap = _Capture()\n",
    "\n",
    "# teacher의 마지막 선형 레이어(기본: 'fc')에 훅 등록\n",
    "fc_module = dict(teacher.named_modules()).get(\"fc\", None)\n",
    "assert fc_module is not None, \"teacher에 'fc' 모듈이 없습니다. 마지막 레이어명이 다르면 해당 이름으로 바꿔주세요.\"\n",
    "_hook_handle = fc_module.register_forward_hook(cap)\n",
    "\n",
    "teacher.eval()\n",
    "device = torch.device(device) if not isinstance(device, torch.device) else device\n",
    "\n",
    "# 검증용으로 첫 배치\n",
    "batch = next(iter(val_loader))\n",
    "x, y = batch[0].to(device), batch[1].to(device)\n",
    "\n",
    "with torch.no_grad():\n",
    "    logits_live = teacher(x)       # 모델 최종 출력 (logits)\n",
    "fc_logits = cap.outputs             # fc 훅으로 캡처된 출력 (logits)\n",
    "\n",
    "# fc출력과 최종 logits 일치 확인(ResNet 계열이면 동일해야 정상)\n",
    "max_abs_diff = (fc_logits - logits_live).abs().max().item()\n",
    "print(f\"[Step1] fc출력 vs 최종 logits max|diff| = {max_abs_diff:.6g}\")\n",
    "\n",
    "# 훅 해제(필요시 유지해도 무방)\n",
    "_hook_handle.remove()\n",
    "\n",
    "# 샘플 일부 미리 보기\n",
    "n_show = min(5, x.size(0))\n",
    "print(\"\\n[Step1] raw logits (first %d samples, first 10 dims)\" % n_show)\n",
    "print(logits_live[:n_show, :10].detach().cpu())\n"
   ]
  },
  {
   "cell_type": "code",
   "execution_count": 47,
   "id": "3a0dccc3",
   "metadata": {},
   "outputs": [
    {
     "name": "stdout",
     "output_type": "stream",
     "text": [
      "[Step2] batch accuracy = 87.11%\n",
      "[Step2] pred vs target (first 5):\n",
      "tensor([[3, 3],\n",
      "        [8, 8],\n",
      "        [8, 8],\n",
      "        [0, 0],\n",
      "        [6, 6]])\n"
     ]
    }
   ],
   "source": [
    "with torch.no_grad():\n",
    "    prob = F.softmax(logits_live, dim=1)\n",
    "    pred = prob.argmax(1)\n",
    "    acc = (pred == y).float().mean().item()\n",
    "\n",
    "print(f\"[Step2] batch accuracy = {acc*100:.2f}%\")\n",
    "print(\"[Step2] pred vs target (first %d):\" % n_show)\n",
    "print(torch.stack([pred[:n_show].detach().cpu(), y[:n_show].detach().cpu()], dim=1))\n"
   ]
  },
  {
   "cell_type": "code",
   "execution_count": 48,
   "id": "e3e36aca",
   "metadata": {},
   "outputs": [
    {
     "name": "stdout",
     "output_type": "stream",
     "text": [
      "\n",
      "[Step3] CURRENT_SOFT_FN이 정의되어 있지 않아 건너뜁니다. 여러분의 현재 로직 함수를 CURRENT_SOFT_FN 변수에 할당하면 이 블록이 동작합니다.\n"
     ]
    }
   ],
   "source": [
    "soft_current = None\n",
    "if CURRENT_SOFT_FN is not None:\n",
    "    with torch.no_grad():\n",
    "        soft_current = CURRENT_SOFT_FN(logits_live.detach())\n",
    "    print(\"\\n[Step3] CURRENT_SOFT_FN 분포 미리보기 (first %d, first 10 dims)\" % n_show)\n",
    "    print(soft_current[:n_show, :10].cpu())\n",
    "\n",
    "    # 엔트로피(분포 날카로움)와 top1\n",
    "    H_cur = -(soft_current.clamp_min(1e-12).log() * soft_current).sum(1).mean().item()\n",
    "    C = prob.size(1)\n",
    "    print(f\"[Step3] avg entropy (nats) = {H_cur:.3f} (lnC={log(C):.3f})\")\n",
    "    print(\"[Step3] current(top1) (first %d):\" % n_show, soft_current.argmax(1)[:n_show].tolist())\n",
    "else:\n",
    "    print(\"\\n[Step3] CURRENT_SOFT_FN이 정의되어 있지 않아 건너뜁니다. \"\n",
    "          \"여러분의 현재 로직 함수를 CURRENT_SOFT_FN 변수에 할당하면 이 블록이 동작합니다.\")\n"
   ]
  },
  {
   "cell_type": "code",
   "execution_count": 49,
   "id": "e785fa06",
   "metadata": {},
   "outputs": [
    {
     "name": "stdout",
     "output_type": "stream",
     "text": [
      "\n",
      "[Step4] KD 수식(softmax(logits/T)) 분포 미리보기 (first 5, first 10 dims)\n",
      "tensor([[1.4265e-10, 2.7149e-09, 1.7473e-09, 9.9971e-01, 1.3796e-10, 2.9104e-04,\n",
      "         1.6979e-07, 9.4360e-10, 8.0903e-12, 1.2684e-09],\n",
      "        [1.1462e-07, 1.2148e-08, 5.2629e-14, 2.0822e-12, 2.1011e-14, 5.0124e-15,\n",
      "         5.5192e-15, 9.9089e-16, 1.0000e+00, 7.3456e-09],\n",
      "        [3.8437e-05, 1.2559e-01, 2.0785e-11, 4.6167e-11, 7.9152e-08, 3.3734e-11,\n",
      "         5.2939e-12, 7.0612e-10, 8.7436e-01, 1.8376e-05],\n",
      "        [9.9999e-01, 3.3325e-09, 1.0689e-08, 1.0082e-09, 5.2431e-13, 5.1068e-15,\n",
      "         3.7141e-14, 2.5004e-13, 2.6574e-06, 1.2074e-05],\n",
      "        [8.7745e-14, 1.3301e-12, 6.1666e-09, 2.6459e-09, 2.1200e-05, 5.7069e-13,\n",
      "         9.9998e-01, 3.6107e-13, 8.6841e-13, 1.0459e-13]])\n",
      "[Step4] avg entropy (nats) = 0.084 (lnC=2.303)\n",
      "[Step4] kd(T)   (top1) (first 5): [3, 8, 8, 0, 6]\n"
     ]
    }
   ],
   "source": [
    "def kd_soft_targets(logits, T: float):\n",
    "    return F.softmax(logits / T, dim=1)\n",
    "\n",
    "with torch.no_grad():\n",
    "    soft_kd = kd_soft_targets(logits_live.detach(), T=float(globals().get(\"T\", 1.0)))\n",
    "\n",
    "print(\"\\n[Step4] KD 수식(softmax(logits/T)) 분포 미리보기 (first %d, first 10 dims)\" % n_show)\n",
    "print(soft_kd[:n_show, :10].cpu())\n",
    "\n",
    "H_kd = -(soft_kd.clamp_min(1e-12).log() * soft_kd).sum(1).mean().item()\n",
    "C = prob.size(1)\n",
    "print(f\"[Step4] avg entropy (nats) = {H_kd:.3f} (lnC={log(C):.3f})\")\n",
    "print(\"[Step4] kd(T)   (top1) (first %d):\" % n_show, soft_kd.argmax(1)[:n_show].tolist())\n"
   ]
  },
  {
   "cell_type": "code",
   "execution_count": 51,
   "id": "2d18681f",
   "metadata": {},
   "outputs": [
    {
     "name": "stdout",
     "output_type": "stream",
     "text": [
      "shape: (50000, 10)\n",
      "argmax bincount (first 10 classes): tensor([50000,     0,     0,     0,     0,     0,     0,     0,     0,     0])\n",
      "sum of top1 indices: 0\n",
      "avg entropy (nats) = 1.668 (lnC=2.303)\n"
     ]
    },
    {
     "name": "stderr",
     "output_type": "stream",
     "text": [
      "C:\\Users\\gauoo\\AppData\\Local\\Temp\\ipykernel_69556\\2966359861.py:4: FutureWarning: You are using `torch.load` with `weights_only=False` (the current default value), which uses the default pickle module implicitly. It is possible to construct malicious pickle data which will execute arbitrary code during unpickling (See https://github.com/pytorch/pytorch/blob/main/SECURITY.md#untrusted-models for more details). In a future release, the default value for `weights_only` will be flipped to `True`. This limits the functions that could be executed during unpickling. Arbitrary objects will no longer be allowed to be loaded via this mode unless they are explicitly allowlisted by the user via `torch.serialization.add_safe_globals`. We recommend you start setting `weights_only=True` for any use case where you don't have full control of the loaded file. Please open an issue on GitHub for any issues related to this experimental feature.\n",
      "  payload = torch.load(bank_path, map_location=\"cpu\")\n"
     ]
    }
   ],
   "source": [
    "import torch\n",
    "\n",
    "bank_path = \"src/model/ckpts/soft_targets/cifar10_fp16.pt\"\n",
    "payload = torch.load(bank_path, map_location=\"cpu\")\n",
    "l = payload[\"logits\"].to(torch.float32)  # (N,C)\n",
    "\n",
    "print(\"shape:\", tuple(l.shape))\n",
    "top1 = l.argmax(1)\n",
    "print(\"argmax bincount (first 10 classes):\", torch.bincount(top1, minlength=l.shape[1])[:10])\n",
    "print(\"sum of top1 indices:\", top1.sum().item())\n",
    "\n",
    "# 엔트로피도 확인\n",
    "import torch.nn.functional as F, math\n",
    "p = F.softmax(l, dim=1)\n",
    "H = -(p.clamp_min(1e-12).log() * p).sum(1).mean().item()\n",
    "print(f\"avg entropy (nats) = {H:.3f} (lnC={math.log(l.shape[1]):.3f})\")\n"
   ]
  }
 ],
 "metadata": {
  "kernelspec": {
   "display_name": "LLM_env",
   "language": "python",
   "name": "python3"
  },
  "language_info": {
   "codemirror_mode": {
    "name": "ipython",
    "version": 3
   },
   "file_extension": ".py",
   "mimetype": "text/x-python",
   "name": "python",
   "nbconvert_exporter": "python",
   "pygments_lexer": "ipython3",
   "version": "3.9.23"
  }
 },
 "nbformat": 4,
 "nbformat_minor": 5
}
