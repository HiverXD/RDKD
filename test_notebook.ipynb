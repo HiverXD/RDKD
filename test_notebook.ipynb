{
 "cells": [
  {
   "cell_type": "code",
   "execution_count": 1,
   "id": "ed3fd7d1",
   "metadata": {},
   "outputs": [],
   "source": [
    "from src.data.data_setup import loaders\n",
    "\n",
    "train_loader, valid_loader = loaders(download=False)"
   ]
  },
  {
   "cell_type": "code",
   "execution_count": 2,
   "id": "7b9271d8",
   "metadata": {},
   "outputs": [],
   "source": [
    "mnist_train_loader = train_loader['mnist']"
   ]
  },
  {
   "cell_type": "code",
   "execution_count": 3,
   "id": "96a01493",
   "metadata": {},
   "outputs": [],
   "source": [
    "for batch in mnist_train_loader:\n",
    "    x, y = batch\n",
    "    break"
   ]
  },
  {
   "cell_type": "code",
   "execution_count": 4,
   "id": "9df53ffe",
   "metadata": {},
   "outputs": [
    {
     "name": "stdout",
     "output_type": "stream",
     "text": [
      "torch.Size([128, 3, 32, 32]) torch.Size([128])\n"
     ]
    }
   ],
   "source": [
    "print(x.shape, y.shape)"
   ]
  },
  {
   "cell_type": "code",
   "execution_count": null,
   "id": "e16c5c52",
   "metadata": {},
   "outputs": [
    {
     "name": "stdout",
     "output_type": "stream",
     "text": [
      "{'project': 'RDKD', 'exp_name': '01_baseline_test', 'seed': 3407, 'device': 'cuda', 'precision': 'fp32', 'output': {'dir': 'runs/${exp_name}/${data.dataset}', 'namefmt': '%Y%m%d_%H%M%S'}, 'data': {'root': 'dataset', 'dataset': 'cifar10', 'batch_size': 128, 'num_workers': 4, 'pin_memory': True, 'download': True, 'aug': {'enable': True, 'cifar': {'random_crop_pad': 4, 'horizontal_flip_p': 0.5, 'cutout': 0}, 'mnist_like': {'random_crop_pad': 0, 'horizontal_flip_p': 0.0}}}, 'model': {'backbone': 'resnet18', 'num_classes': 10, 'ckpts': {'teacher': 'src/model/ckpts/resnet34.pt', 'student': None}, 'load_pretrained': True, 'strict_load': False}, 'train': {'test_every': 1, 'epochs': 100, 'linear_probe': {'enable': True, 'epochs': 20, 'freeze_bn': True}, 'finetune': {'enable': True, 'epochs': 80}, 'optimizer': {'name': 'AdamW', 'lr': 0.0003, 'weight_decay': 0.05, 'betas': [0.9, 0.999], 'eps': 1e-08}, 'scheduler': {'name': 'cosine', 'warmup_epochs': 5, 'min_lr': 1e-06}}, 'logging': {'wandb': False, 'project': 'RDKD', 'entity': None, 'tags': ['baseline']}, 'eval': {'metrics': ['acc', 'recall', 'f1', 'top5']}, 'kd': {'enable': False, 'alpha': 0.5, 'temperature': 4.0}, 'rdkd': {'dynamic_beta': 0.0, 'relational_gamma': 0.0, 'proj': {'type': 'gaussian', 'k': 64, 'heads': 1, 'seed': 42}}}\n"
     ]
    }
   ],
   "source": [
    "import yaml\n",
    "\n",
    "with open(\"config.yaml\", \"r\", encoding=\"utf-8\") as f:\n",
    "    a = yaml.safe_load(f)\n",
    "\n",
    "print(a)\n",
    "\n",
    "yaml.safe_dump()"
   ]
  }
 ],
 "metadata": {
  "kernelspec": {
   "display_name": "LLM_env",
   "language": "python",
   "name": "python3"
  },
  "language_info": {
   "codemirror_mode": {
    "name": "ipython",
    "version": 3
   },
   "file_extension": ".py",
   "mimetype": "text/x-python",
   "name": "python",
   "nbconvert_exporter": "python",
   "pygments_lexer": "ipython3",
   "version": "3.9.23"
  }
 },
 "nbformat": 4,
 "nbformat_minor": 5
}
